{
 "cells": [
  {
   "cell_type": "code",
   "execution_count": 1,
   "id": "98a7bfe9",
   "metadata": {},
   "outputs": [
    {
     "name": "stdout",
     "output_type": "stream",
     "text": [
      "Sample list : [4, 5, 2, 9]\n",
      "Square the elements of the list: \n",
      " [16, 25, 4, 81]\n"
     ]
    }
   ],
   "source": [
    "l=[4,5,2,9]\n",
    "print(\"Sample list :\",l)\n",
    "sqr=list(map(lambda x:(x)**2,l))\n",
    "print(\"Square the elements of the list: \\n\",sqr)"
   ]
  },
  {
   "cell_type": "code",
   "execution_count": null,
   "id": "bfb242b0",
   "metadata": {},
   "outputs": [],
   "source": []
  }
 ],
 "metadata": {
  "kernelspec": {
   "display_name": "Python 3 (ipykernel)",
   "language": "python",
   "name": "python3"
  },
  "language_info": {
   "codemirror_mode": {
    "name": "ipython",
    "version": 3
   },
   "file_extension": ".py",
   "mimetype": "text/x-python",
   "name": "python",
   "nbconvert_exporter": "python",
   "pygments_lexer": "ipython3",
   "version": "3.10.4"
  }
 },
 "nbformat": 4,
 "nbformat_minor": 5
}
